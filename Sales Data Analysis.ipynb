{
 "cells": [
  {
   "cell_type": "code",
   "execution_count": 26,
   "metadata": {},
   "outputs": [
    {
     "name": "stdout",
     "output_type": "stream",
     "text": [
      "  Order ID                     Product Quantity Ordered Price Each  \\\n",
      "0   209921        USB-C Charging Cable                1      11.95   \n",
      "1   209922          Macbook Pro Laptop                1     1700.0   \n",
      "2   209923             ThinkPad Laptop                1     999.99   \n",
      "3   209924            27in FHD Monitor                1     149.99   \n",
      "4   209925  Bose SoundSport Headphones                1      99.99   \n",
      "\n",
      "       Order Date                       Purchase Address  \n",
      "0  06/23/19 19:34      950 Walnut St, Portland, ME 04101  \n",
      "1  06/30/19 10:05     80 4th St, San Francisco, CA 94016  \n",
      "2  06/24/19 20:18  402 Jackson St, Los Angeles, CA 90001  \n",
      "3  06/05/19 10:21         560 10th St, Seattle, WA 98101  \n",
      "4  06/25/19 18:58    545 2nd St, San Francisco, CA 94016  \n",
      "                       Column Name  Missing Percentage\n",
      "Order ID                  Order ID            0.291678\n",
      "Product                    Product            0.291678\n",
      "Quantity Ordered  Quantity Ordered            0.291678\n",
      "Price Each              Price Each            0.291678\n",
      "Order Date              Order Date            0.291678\n",
      "Purchase Address  Purchase Address            0.291678\n"
     ]
    }
   ],
   "source": [
    "import os\n",
    "import pandas as pd\n",
    "import matplotlib.pyplot as plt\n",
    "\n",
    "\n",
    "\n",
    "My_work_dir = \"/home/PC/Downloads/Masters-main\"\n",
    "os.chdir(My_work_dir)\n",
    "files = (file for file in os.listdir(My_work_dir)if not file.startswith('.'))\n",
    "all_months_data = pd.DataFrame()\n",
    "\n",
    "for file in files:\n",
    "    current_data = pd.read_csv(My_work_dir+\"/\"+file)\n",
    "    all_months_data = pd.concat([all_months_data, current_data])\n",
    "\n",
    "all_months_data.to_csv(\"all_data_copy.csv\", index=False)\n",
    "# Calculate the percentage of missing values for each column\n",
    "missing_percentage = (all_months_data.isnull().sum() / len(all_months_data)) * 100\n",
    "\n",
    "# Create a DataFrame to display missing value percentages\n",
    "missing_info = pd.DataFrame({\n",
    "    'Column Name': all_months_data.columns,\n",
    "    'Missing Percentage': missing_percentage\n",
    "})\n",
    "\n",
    "# Sort the DataFrame by missing percentage in descending order\n",
    "missing_info = missing_info.sort_values(by='Missing Percentage', ascending=False)\n",
    "\n",
    "# Print the DataFrame\n",
    "print(missing_info)\n"
   ]
  },
  {
   "cell_type": "markdown",
   "metadata": {},
   "source": [
    "1- we notice that all columns have same missing percentage"
   ]
  },
  {
   "cell_type": "code",
   "execution_count": 28,
   "metadata": {},
   "outputs": [],
   "source": [
    "\n",
    "# best sale by month\n",
    "\n",
    "df = pd.DataFrame(all_months_data)\n",
    "\n",
    "# Convert \"Order Date\" to datetime format\n",
    "df['Order Date'] = pd.to_datetime(df['Order Date'], format='%m/%d/%y %H:%M', errors='coerce')\n",
    "\n",
    "# Extract the month and year from \"Order Date\"\n",
    "df['Month'] = df['Order Date'].dt.month\n"
   ]
  },
  {
   "cell_type": "code",
   "execution_count": 33,
   "metadata": {},
   "outputs": [
    {
     "data": {
      "text/plain": [
       "0         6.0\n",
       "1         6.0\n",
       "2         6.0\n",
       "3         6.0\n",
       "4         6.0\n",
       "         ... \n",
       "17656    11.0\n",
       "17657    11.0\n",
       "17658    11.0\n",
       "17659    11.0\n",
       "17660    11.0\n",
       "Name: Month, Length: 1673550, dtype: float64"
      ]
     },
     "execution_count": 33,
     "metadata": {},
     "output_type": "execute_result"
    }
   ],
   "source": [
    "df['Month']"
   ]
  },
  {
   "cell_type": "markdown",
   "metadata": {},
   "source": []
  },
  {
   "cell_type": "code",
   "execution_count": 30,
   "metadata": {},
   "outputs": [
    {
     "name": "stdout",
     "output_type": "stream",
     "text": [
      "      Order ID                     Product  Quantity Ordered  Price Each  \\\n",
      "0       209921        USB-C Charging Cable                 1       11.95   \n",
      "1       209922          Macbook Pro Laptop                 1     1700.00   \n",
      "2       209923             ThinkPad Laptop                 1      999.99   \n",
      "3       209924            27in FHD Monitor                 1      149.99   \n",
      "4       209925  Bose SoundSport Headphones                 1       99.99   \n",
      "...        ...                         ...               ...         ...   \n",
      "17656   295660      AAA Batteries (4-pack)                 2        2.99   \n",
      "17657   295661        USB-C Charging Cable                 1       11.95   \n",
      "17658   295662    Lightning Charging Cable                 1       14.95   \n",
      "17659   295663      AAA Batteries (4-pack)                 1        2.99   \n",
      "17660   295664                Google Phone                 1      600.00   \n",
      "\n",
      "               Order Date                       Purchase Address  Month  \n",
      "0     2019-06-23 19:34:00      950 Walnut St, Portland, ME 04101    6.0  \n",
      "1     2019-06-30 10:05:00     80 4th St, San Francisco, CA 94016    6.0  \n",
      "2     2019-06-24 20:18:00  402 Jackson St, Los Angeles, CA 90001    6.0  \n",
      "3     2019-06-05 10:21:00         560 10th St, Seattle, WA 98101    6.0  \n",
      "4     2019-06-25 18:58:00    545 2nd St, San Francisco, CA 94016    6.0  \n",
      "...                   ...                                    ...    ...  \n",
      "17656 2019-11-04 14:17:00      574 4th St, Los Angeles, CA 90001   11.0  \n",
      "17657 2019-11-23 07:22:00           359 1st St, Austin, TX 73301   11.0  \n",
      "17658 2019-11-13 16:12:00          900 10th St, Boston, MA 02215   11.0  \n",
      "17659 2019-11-17 17:08:00        592 Sunset St, Boston, MA 02215   11.0  \n",
      "17660 2019-11-17 16:13:00       428 Jackson St, Boston, MA 02215   11.0  \n",
      "\n",
      "[1673550 rows x 7 columns]\n"
     ]
    }
   ],
   "source": [
    "# Remove rows where \"Quantity Ordered\" or \"Price Each\" are not numeric\n",
    "df = df[df['Quantity Ordered'].str.isnumeric() & df['Price Each'].str.replace('.', '', 1).str.isnumeric()]\n",
    "\n",
    "# Convert \"Quantity Ordered\" and \"Price Each\" to numeric types\n",
    "df['Quantity Ordered'] = pd.to_numeric(df['Quantity Ordered'])\n",
    "df['Price Each'] = pd.to_numeric(df['Price Each'])\n",
    "\n",
    "# Convert \"Order Date\" to datetime format (if needed)\n",
    "df['Order Date'] = pd.to_datetime(df['Order Date'], format='%m/%d/%y %H:%M')\n",
    "\n",
    "# Now, the \"Quantity Ordered\" and \"Price Each\" columns are in numeric formats, and non-numeric rows are removed\n",
    "print(df)"
   ]
  },
  {
   "cell_type": "code",
   "execution_count": 31,
   "metadata": {},
   "outputs": [],
   "source": [
    "# Convert \"Quantity Ordered\" and \"Price Each\" to numeric types\n",
    "df['Quantity Ordered'] = pd.to_numeric(df['Quantity Ordered'])\n",
    "df['Price Each'] = pd.to_numeric(df['Price Each'])"
   ]
  },
  {
   "cell_type": "code",
   "execution_count": 32,
   "metadata": {},
   "outputs": [
    {
     "data": {
      "image/png": "[encoded data removed]",
      "text/plain": [
       "<Figure size 1000x600 with 1 Axes>"
      ]
     },
     "metadata": {},
     "output_type": "display_data"
    }
   ],
   "source": [
    "# Group by month and year, and calculate total sales\n",
    "monthly_sales = df.groupby(['Month'])['Quantity Ordered'].sum() * df.groupby(['Month'])['Price Each'].mean()\n",
    "\n",
    "\n",
    "# Plot sales by month\n",
    "plt.figure(figsize=(10, 6))\n",
    "monthly_sales.plot(kind='bar', color='skyblue')\n",
    "plt.xlabel('Month')\n",
    "plt.ylabel('Total Sales')\n",
    "plt.title('Sales by Month')\n",
    "plt.xticks(rotation=0)\n",
    "plt.grid(axis='y', linestyle='--', alpha=0.7)\n",
    "\n",
    "plt.show()"
   ]
  }
 ],
 "metadata": {
  "kernelspec": {
   "display_name": "Python 3",
   "language": "python",
   "name": "python3"
  },
  "language_info": {
   "codemirror_mode": {
    "name": "ipython",
    "version": 3
   },
   "file_extension": ".py",
   "mimetype": "text/x-python",
   "name": "python",
   "nbconvert_exporter": "python",
   "pygments_lexer": "ipython3",
   "version": "3.10.12"
  },
  "orig_nbformat": 4
 },
 "nbformat": 4,
 "nbformat_minor": 2
}
